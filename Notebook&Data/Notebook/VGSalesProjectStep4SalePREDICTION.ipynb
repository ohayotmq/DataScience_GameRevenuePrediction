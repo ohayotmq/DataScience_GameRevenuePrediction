{
 "cells": [
  {
   "cell_type": "code",
   "execution_count": 1,
   "metadata": {},
   "outputs": [],
   "source": [
    "## Importing the libraries\n",
    "import pandas as pd\n",
    "import matplotlib.pyplot as plt\n",
    "import numpy as np\n",
    "import seaborn as sns\n",
    "import warnings\n",
    "warnings.filterwarnings('ignore')"
   ]
  },
  {
   "cell_type": "code",
   "execution_count": 2,
   "metadata": {},
   "outputs": [],
   "source": [
    "dataset = pd.read_csv('game_info_cleaned.csv')"
   ]
  },
  {
   "cell_type": "code",
   "execution_count": 3,
   "metadata": {},
   "outputs": [
    {
     "name": "stdout",
     "output_type": "stream",
     "text": [
      "<class 'pandas.core.frame.DataFrame'>\n",
      "RangeIndex: 17517 entries, 0 to 17516\n",
      "Data columns (total 11 columns):\n",
      " #   Column           Non-Null Count  Dtype  \n",
      "---  ------           --------------  -----  \n",
      " 0   Title            17517 non-null  object \n",
      " 1   Genre            17517 non-null  object \n",
      " 2   Console          17517 non-null  object \n",
      " 3   Publisher        17517 non-null  object \n",
      " 4   Total Sales (m)  17517 non-null  float64\n",
      " 5   NA Sales (m)     17517 non-null  float64\n",
      " 6   EU Sales (m)     17517 non-null  float64\n",
      " 7   JP Sales (m)     17517 non-null  float64\n",
      " 8   Other Sales (m)  17517 non-null  float64\n",
      " 9   Release Month    17517 non-null  int64  \n",
      " 10  Release Year     17517 non-null  int64  \n",
      "dtypes: float64(5), int64(2), object(4)\n",
      "memory usage: 1.5+ MB\n"
     ]
    }
   ],
   "source": [
    "dataset.info()"
   ]
  },
  {
   "cell_type": "code",
   "execution_count": 4,
   "metadata": {},
   "outputs": [
    {
     "data": {
      "text/html": [
       "<div>\n",
       "<style scoped>\n",
       "    .dataframe tbody tr th:only-of-type {\n",
       "        vertical-align: middle;\n",
       "    }\n",
       "\n",
       "    .dataframe tbody tr th {\n",
       "        vertical-align: top;\n",
       "    }\n",
       "\n",
       "    .dataframe thead th {\n",
       "        text-align: right;\n",
       "    }\n",
       "</style>\n",
       "<table border=\"1\" class=\"dataframe\">\n",
       "  <thead>\n",
       "    <tr style=\"text-align: right;\">\n",
       "      <th></th>\n",
       "      <th>Title</th>\n",
       "      <th>Genre</th>\n",
       "      <th>Console</th>\n",
       "      <th>Publisher</th>\n",
       "      <th>Total Sales (m)</th>\n",
       "      <th>NA Sales (m)</th>\n",
       "      <th>EU Sales (m)</th>\n",
       "      <th>JP Sales (m)</th>\n",
       "      <th>Other Sales (m)</th>\n",
       "      <th>Release Month</th>\n",
       "      <th>Release Year</th>\n",
       "    </tr>\n",
       "  </thead>\n",
       "  <tbody>\n",
       "    <tr>\n",
       "      <th>0</th>\n",
       "      <td>Tomb Raider II</td>\n",
       "      <td>Adventure</td>\n",
       "      <td>PS</td>\n",
       "      <td>Eidos Interactive</td>\n",
       "      <td>5.24</td>\n",
       "      <td>2.30</td>\n",
       "      <td>2.46</td>\n",
       "      <td>0.20</td>\n",
       "      <td>0.28</td>\n",
       "      <td>10</td>\n",
       "      <td>1997</td>\n",
       "    </tr>\n",
       "    <tr>\n",
       "      <th>1</th>\n",
       "      <td>LEGO Indiana Jones: The Original Adventures</td>\n",
       "      <td>Adventure</td>\n",
       "      <td>X360</td>\n",
       "      <td>LucasArts</td>\n",
       "      <td>3.76</td>\n",
       "      <td>2.40</td>\n",
       "      <td>1.01</td>\n",
       "      <td>0.00</td>\n",
       "      <td>0.36</td>\n",
       "      <td>6</td>\n",
       "      <td>2008</td>\n",
       "    </tr>\n",
       "    <tr>\n",
       "      <th>2</th>\n",
       "      <td>Tomb Raider III: Adventures of Lara Croft</td>\n",
       "      <td>Adventure</td>\n",
       "      <td>PS</td>\n",
       "      <td>Eidos Interactive</td>\n",
       "      <td>3.54</td>\n",
       "      <td>1.66</td>\n",
       "      <td>1.58</td>\n",
       "      <td>0.12</td>\n",
       "      <td>0.18</td>\n",
       "      <td>11</td>\n",
       "      <td>1998</td>\n",
       "    </tr>\n",
       "    <tr>\n",
       "      <th>3</th>\n",
       "      <td>LEGO Batman: The Videogame</td>\n",
       "      <td>Adventure</td>\n",
       "      <td>X360</td>\n",
       "      <td>Warner Bros. Interactive</td>\n",
       "      <td>3.44</td>\n",
       "      <td>2.07</td>\n",
       "      <td>1.04</td>\n",
       "      <td>0.00</td>\n",
       "      <td>0.34</td>\n",
       "      <td>9</td>\n",
       "      <td>2008</td>\n",
       "    </tr>\n",
       "    <tr>\n",
       "      <th>4</th>\n",
       "      <td>L.A. Noire</td>\n",
       "      <td>Adventure</td>\n",
       "      <td>PS3</td>\n",
       "      <td>Rockstar Games</td>\n",
       "      <td>3.21</td>\n",
       "      <td>1.29</td>\n",
       "      <td>1.31</td>\n",
       "      <td>0.12</td>\n",
       "      <td>0.49</td>\n",
       "      <td>11</td>\n",
       "      <td>2011</td>\n",
       "    </tr>\n",
       "    <tr>\n",
       "      <th>5</th>\n",
       "      <td>Club Penguin: Elite Penguin Force</td>\n",
       "      <td>Adventure</td>\n",
       "      <td>DS</td>\n",
       "      <td>Disney Interactive Studios</td>\n",
       "      <td>3.14</td>\n",
       "      <td>1.87</td>\n",
       "      <td>0.97</td>\n",
       "      <td>0.00</td>\n",
       "      <td>0.30</td>\n",
       "      <td>11</td>\n",
       "      <td>2008</td>\n",
       "    </tr>\n",
       "    <tr>\n",
       "      <th>6</th>\n",
       "      <td>LEGO Batman: The Videogame</td>\n",
       "      <td>Adventure</td>\n",
       "      <td>Wii</td>\n",
       "      <td>Warner Bros. Interactive</td>\n",
       "      <td>3.08</td>\n",
       "      <td>1.80</td>\n",
       "      <td>0.98</td>\n",
       "      <td>0.00</td>\n",
       "      <td>0.29</td>\n",
       "      <td>9</td>\n",
       "      <td>2008</td>\n",
       "    </tr>\n",
       "    <tr>\n",
       "      <th>7</th>\n",
       "      <td>LEGO Batman: The Videogame</td>\n",
       "      <td>Adventure</td>\n",
       "      <td>DS</td>\n",
       "      <td>Warner Bros. Interactive</td>\n",
       "      <td>3.06</td>\n",
       "      <td>1.75</td>\n",
       "      <td>1.02</td>\n",
       "      <td>0.00</td>\n",
       "      <td>0.29</td>\n",
       "      <td>9</td>\n",
       "      <td>2008</td>\n",
       "    </tr>\n",
       "    <tr>\n",
       "      <th>8</th>\n",
       "      <td>L.A. Noire</td>\n",
       "      <td>Adventure</td>\n",
       "      <td>X360</td>\n",
       "      <td>Rockstar Games</td>\n",
       "      <td>2.73</td>\n",
       "      <td>1.55</td>\n",
       "      <td>0.92</td>\n",
       "      <td>0.02</td>\n",
       "      <td>0.24</td>\n",
       "      <td>11</td>\n",
       "      <td>2011</td>\n",
       "    </tr>\n",
       "    <tr>\n",
       "      <th>9</th>\n",
       "      <td>Harry Potter and the Chamber of Secrets</td>\n",
       "      <td>Adventure</td>\n",
       "      <td>PS2</td>\n",
       "      <td>Electronic Arts</td>\n",
       "      <td>2.61</td>\n",
       "      <td>0.90</td>\n",
       "      <td>1.22</td>\n",
       "      <td>0.04</td>\n",
       "      <td>0.44</td>\n",
       "      <td>11</td>\n",
       "      <td>2002</td>\n",
       "    </tr>\n",
       "  </tbody>\n",
       "</table>\n",
       "</div>"
      ],
      "text/plain": [
       "                                         Title      Genre Console  \\\n",
       "0                               Tomb Raider II  Adventure      PS   \n",
       "1  LEGO Indiana Jones: The Original Adventures  Adventure    X360   \n",
       "2    Tomb Raider III: Adventures of Lara Croft  Adventure      PS   \n",
       "3                   LEGO Batman: The Videogame  Adventure    X360   \n",
       "4                                   L.A. Noire  Adventure     PS3   \n",
       "5            Club Penguin: Elite Penguin Force  Adventure      DS   \n",
       "6                   LEGO Batman: The Videogame  Adventure     Wii   \n",
       "7                   LEGO Batman: The Videogame  Adventure      DS   \n",
       "8                                   L.A. Noire  Adventure    X360   \n",
       "9      Harry Potter and the Chamber of Secrets  Adventure     PS2   \n",
       "\n",
       "                    Publisher  Total Sales (m)  NA Sales (m)  EU Sales (m)  \\\n",
       "0           Eidos Interactive             5.24          2.30          2.46   \n",
       "1                   LucasArts             3.76          2.40          1.01   \n",
       "2           Eidos Interactive             3.54          1.66          1.58   \n",
       "3    Warner Bros. Interactive             3.44          2.07          1.04   \n",
       "4              Rockstar Games             3.21          1.29          1.31   \n",
       "5  Disney Interactive Studios             3.14          1.87          0.97   \n",
       "6    Warner Bros. Interactive             3.08          1.80          0.98   \n",
       "7    Warner Bros. Interactive             3.06          1.75          1.02   \n",
       "8              Rockstar Games             2.73          1.55          0.92   \n",
       "9             Electronic Arts             2.61          0.90          1.22   \n",
       "\n",
       "   JP Sales (m)  Other Sales (m)  Release Month  Release Year  \n",
       "0          0.20             0.28             10          1997  \n",
       "1          0.00             0.36              6          2008  \n",
       "2          0.12             0.18             11          1998  \n",
       "3          0.00             0.34              9          2008  \n",
       "4          0.12             0.49             11          2011  \n",
       "5          0.00             0.30             11          2008  \n",
       "6          0.00             0.29              9          2008  \n",
       "7          0.00             0.29              9          2008  \n",
       "8          0.02             0.24             11          2011  \n",
       "9          0.04             0.44             11          2002  "
      ]
     },
     "execution_count": 4,
     "metadata": {},
     "output_type": "execute_result"
    }
   ],
   "source": [
    "dataset.head(10)"
   ]
  },
  {
   "cell_type": "code",
   "execution_count": 5,
   "metadata": {},
   "outputs": [
    {
     "data": {
      "text/plain": [
       "False"
      ]
     },
     "execution_count": 5,
     "metadata": {},
     "output_type": "execute_result"
    }
   ],
   "source": [
    "dataset.isnull().values.any()"
   ]
  },
  {
   "cell_type": "code",
   "execution_count": 6,
   "metadata": {},
   "outputs": [
    {
     "name": "stdout",
     "output_type": "stream",
     "text": [
      "[]\n",
      "[5.24 3.76 3.54 ... 0.01 0.01 0.01]\n"
     ]
    }
   ],
   "source": [
    "## Defining the features and the dependent variable\n",
    "x = dataset.iloc[:,1:0].values\n",
    "y = dataset.iloc[:,4].values\n",
    "print(x[0])\n",
    "print(y)"
   ]
  },
  {
   "cell_type": "code",
   "execution_count": 7,
   "metadata": {},
   "outputs": [
    {
     "name": "stdout",
     "output_type": "stream",
     "text": [
      "[2.3  2.46 0.2  0.28]\n"
     ]
    }
   ],
   "source": [
    "# Retaining only the useful features of the dataset\n",
    "# From the heatmap, we can decipher that the columns NA_Sales,JP_Sales,EU_Sales and Other_Sales are the most useful features\n",
    "# in determining the global sales\n",
    "x = dataset.iloc[:,5: -2].values\n",
    "print(x[0])"
   ]
  },
  {
   "cell_type": "code",
   "execution_count": 8,
   "metadata": {},
   "outputs": [],
   "source": [
    "## Splitting the dataset into independent and dependent vaiables\n",
    "from sklearn.model_selection import train_test_split\n",
    "x_train,x_test,y_train,y_test = train_test_split(x,y,test_size=0.2,random_state=0)"
   ]
  },
  {
   "cell_type": "code",
   "execution_count": 9,
   "metadata": {},
   "outputs": [
    {
     "name": "stdout",
     "output_type": "stream",
     "text": [
      "[[0.06 0.02 0.   0.  ]\n",
      " [0.   0.01 0.   0.  ]\n",
      " [0.01 0.01 0.   0.  ]\n",
      " ...\n",
      " [0.09 0.01 0.   0.01]\n",
      " [0.12 0.09 0.   0.03]\n",
      " [0.   0.   0.23 0.  ]]\n",
      "[[0.05 0.01 0.   0.  ]\n",
      " [0.   0.   0.29 0.  ]\n",
      " [0.   0.   0.02 0.  ]\n",
      " ...\n",
      " [0.   0.07 0.   0.01]\n",
      " [1.56 1.4  0.07 0.5 ]\n",
      " [0.   0.03 0.   0.  ]]\n",
      "[0.08 0.01 0.02 ... 0.1  0.25 0.23]\n",
      "[0.06 0.29 0.02 ... 0.08 3.54 0.04]\n"
     ]
    }
   ],
   "source": [
    "print(x_train)\n",
    "print(x_test)\n",
    "print(y_train)\n",
    "print(y_test)"
   ]
  },
  {
   "cell_type": "code",
   "execution_count": 10,
   "metadata": {},
   "outputs": [
    {
     "data": {
      "text/html": [
       "<style>#sk-container-id-1 {color: black;background-color: white;}#sk-container-id-1 pre{padding: 0;}#sk-container-id-1 div.sk-toggleable {background-color: white;}#sk-container-id-1 label.sk-toggleable__label {cursor: pointer;display: block;width: 100%;margin-bottom: 0;padding: 0.3em;box-sizing: border-box;text-align: center;}#sk-container-id-1 label.sk-toggleable__label-arrow:before {content: \"▸\";float: left;margin-right: 0.25em;color: #696969;}#sk-container-id-1 label.sk-toggleable__label-arrow:hover:before {color: black;}#sk-container-id-1 div.sk-estimator:hover label.sk-toggleable__label-arrow:before {color: black;}#sk-container-id-1 div.sk-toggleable__content {max-height: 0;max-width: 0;overflow: hidden;text-align: left;background-color: #f0f8ff;}#sk-container-id-1 div.sk-toggleable__content pre {margin: 0.2em;color: black;border-radius: 0.25em;background-color: #f0f8ff;}#sk-container-id-1 input.sk-toggleable__control:checked~div.sk-toggleable__content {max-height: 200px;max-width: 100%;overflow: auto;}#sk-container-id-1 input.sk-toggleable__control:checked~label.sk-toggleable__label-arrow:before {content: \"▾\";}#sk-container-id-1 div.sk-estimator input.sk-toggleable__control:checked~label.sk-toggleable__label {background-color: #d4ebff;}#sk-container-id-1 div.sk-label input.sk-toggleable__control:checked~label.sk-toggleable__label {background-color: #d4ebff;}#sk-container-id-1 input.sk-hidden--visually {border: 0;clip: rect(1px 1px 1px 1px);clip: rect(1px, 1px, 1px, 1px);height: 1px;margin: -1px;overflow: hidden;padding: 0;position: absolute;width: 1px;}#sk-container-id-1 div.sk-estimator {font-family: monospace;background-color: #f0f8ff;border: 1px dotted black;border-radius: 0.25em;box-sizing: border-box;margin-bottom: 0.5em;}#sk-container-id-1 div.sk-estimator:hover {background-color: #d4ebff;}#sk-container-id-1 div.sk-parallel-item::after {content: \"\";width: 100%;border-bottom: 1px solid gray;flex-grow: 1;}#sk-container-id-1 div.sk-label:hover label.sk-toggleable__label {background-color: #d4ebff;}#sk-container-id-1 div.sk-serial::before {content: \"\";position: absolute;border-left: 1px solid gray;box-sizing: border-box;top: 0;bottom: 0;left: 50%;z-index: 0;}#sk-container-id-1 div.sk-serial {display: flex;flex-direction: column;align-items: center;background-color: white;padding-right: 0.2em;padding-left: 0.2em;position: relative;}#sk-container-id-1 div.sk-item {position: relative;z-index: 1;}#sk-container-id-1 div.sk-parallel {display: flex;align-items: stretch;justify-content: center;background-color: white;position: relative;}#sk-container-id-1 div.sk-item::before, #sk-container-id-1 div.sk-parallel-item::before {content: \"\";position: absolute;border-left: 1px solid gray;box-sizing: border-box;top: 0;bottom: 0;left: 50%;z-index: -1;}#sk-container-id-1 div.sk-parallel-item {display: flex;flex-direction: column;z-index: 1;position: relative;background-color: white;}#sk-container-id-1 div.sk-parallel-item:first-child::after {align-self: flex-end;width: 50%;}#sk-container-id-1 div.sk-parallel-item:last-child::after {align-self: flex-start;width: 50%;}#sk-container-id-1 div.sk-parallel-item:only-child::after {width: 0;}#sk-container-id-1 div.sk-dashed-wrapped {border: 1px dashed gray;margin: 0 0.4em 0.5em 0.4em;box-sizing: border-box;padding-bottom: 0.4em;background-color: white;}#sk-container-id-1 div.sk-label label {font-family: monospace;font-weight: bold;display: inline-block;line-height: 1.2em;}#sk-container-id-1 div.sk-label-container {text-align: center;}#sk-container-id-1 div.sk-container {/* jupyter's `normalize.less` sets `[hidden] { display: none; }` but bootstrap.min.css set `[hidden] { display: none !important; }` so we also need the `!important` here to be able to override the default hidden behavior on the sphinx rendered scikit-learn.org. See: https://github.com/scikit-learn/scikit-learn/issues/21755 */display: inline-block !important;position: relative;}#sk-container-id-1 div.sk-text-repr-fallback {display: none;}</style><div id=\"sk-container-id-1\" class=\"sk-top-container\"><div class=\"sk-text-repr-fallback\"><pre>LinearRegression(fit_intercept=False)</pre><b>In a Jupyter environment, please rerun this cell to show the HTML representation or trust the notebook. <br />On GitHub, the HTML representation is unable to render, please try loading this page with nbviewer.org.</b></div><div class=\"sk-container\" hidden><div class=\"sk-item\"><div class=\"sk-estimator sk-toggleable\"><input class=\"sk-toggleable__control sk-hidden--visually\" id=\"sk-estimator-id-1\" type=\"checkbox\" checked><label for=\"sk-estimator-id-1\" class=\"sk-toggleable__label sk-toggleable__label-arrow\">LinearRegression</label><div class=\"sk-toggleable__content\"><pre>LinearRegression(fit_intercept=False)</pre></div></div></div></div></div>"
      ],
      "text/plain": [
       "LinearRegression(fit_intercept=False)"
      ]
     },
     "execution_count": 10,
     "metadata": {},
     "output_type": "execute_result"
    }
   ],
   "source": [
    "## Training the multiple linear regression on the training set\n",
    "from sklearn.linear_model import LinearRegression\n",
    "regressor_MultiLinear = LinearRegression(fit_intercept=False)\n",
    "regressor_MultiLinear.fit(x_train,y_train)"
   ]
  },
  {
   "cell_type": "code",
   "execution_count": 11,
   "metadata": {},
   "outputs": [],
   "source": [
    "## Predicting test results\n",
    "y_pred = regressor_MultiLinear.predict(x_test)"
   ]
  },
  {
   "cell_type": "code",
   "execution_count": 12,
   "metadata": {},
   "outputs": [
    {
     "name": "stdout",
     "output_type": "stream",
     "text": [
      "0.9999629546432796\n"
     ]
    }
   ],
   "source": [
    "# Calculating r2 score\n",
    "from sklearn.metrics import r2_score\n",
    "r2_MultiLinear = r2_score(y_test,y_pred)\n",
    "print(r2_MultiLinear)"
   ]
  },
  {
   "cell_type": "code",
   "execution_count": 13,
   "metadata": {},
   "outputs": [
    {
     "data": {
      "image/png": "[encoded data removed]",
      "text/plain": [
       "<Figure size 640x480 with 1 Axes>"
      ]
     },
     "metadata": {},
     "output_type": "display_data"
    }
   ],
   "source": [
    "## Finding out the optimal degree of polynomial regression\n",
    "from sklearn.preprocessing import PolynomialFeatures\n",
    "sns.set_style('darkgrid')\n",
    "scores_list = []\n",
    "pRange = range(2,6)\n",
    "for i in pRange :\n",
    "    poly_reg = PolynomialFeatures(degree=i)\n",
    "    x_poly = poly_reg.fit_transform(x_train)\n",
    "    poly_regressor = LinearRegression()\n",
    "    poly_regressor.fit(x_poly,y_train)\n",
    "    y_pred = poly_regressor.predict(poly_reg.fit_transform(x_test))\n",
    "    scores_list.append(r2_score(y_test,y_pred))\n",
    "plt.plot(pRange,scores_list,linewidth=2)\n",
    "plt.xlabel('Degree of polynomial')\n",
    "plt.ylabel('r2 score with varying degrees')\n",
    "plt.show()"
   ]
  },
  {
   "cell_type": "code",
   "execution_count": 14,
   "metadata": {},
   "outputs": [
    {
     "name": "stdout",
     "output_type": "stream",
     "text": [
      "0.9999622868824117\n"
     ]
    }
   ],
   "source": [
    "## Training the polynomial regression on the training model\n",
    "poly_reg = PolynomialFeatures(degree=2)\n",
    "x_poly = poly_reg.fit_transform(x_train)\n",
    "poly_regressor = LinearRegression()\n",
    "poly_regressor.fit(x_poly,y_train)\n",
    "y_pred = poly_regressor.predict(poly_reg.fit_transform(x_test))\n",
    "r2_poly = r2_score(y_test,y_pred)\n",
    "print(r2_poly)"
   ]
  },
  {
   "cell_type": "code",
   "execution_count": 15,
   "metadata": {},
   "outputs": [
    {
     "data": {
      "image/png": "[encoded data removed]",
      "text/plain": [
       "<Figure size 640x480 with 1 Axes>"
      ]
     },
     "metadata": {},
     "output_type": "display_data"
    }
   ],
   "source": [
    "## Finding the optimal number of neighbors for KNN regression\n",
    "from sklearn.neighbors import KNeighborsRegressor\n",
    "knnRange = range(1,11,1)\n",
    "scores_list = []\n",
    "for i in knnRange:\n",
    "    regressor_knn = KNeighborsRegressor(n_neighbors=i)\n",
    "    regressor_knn.fit(x_train,y_train)\n",
    "    y_pred = regressor_knn.predict(x_test)\n",
    "    scores_list.append(r2_score(y_test,y_pred))\n",
    "plt.plot(knnRange,scores_list,linewidth=2,color='green')\n",
    "plt.xticks(knnRange)\n",
    "plt.xlabel('No. of neighbors')\n",
    "plt.ylabel('r2 score of KNN')\n",
    "plt.show()   "
   ]
  },
  {
   "cell_type": "code",
   "execution_count": 16,
   "metadata": {},
   "outputs": [
    {
     "name": "stdout",
     "output_type": "stream",
     "text": [
      "0.9659434864064383\n"
     ]
    }
   ],
   "source": [
    "# Training the KNN model on the training set\n",
    "regressor_knn = KNeighborsRegressor(n_neighbors=7)\n",
    "regressor_knn.fit(x_train,y_train)\n",
    "y_pred = regressor_knn.predict(x_test)\n",
    "r2_knn = r2_score(y_test,y_pred)\n",
    "print(r2_knn)"
   ]
  },
  {
   "cell_type": "code",
   "execution_count": 17,
   "metadata": {},
   "outputs": [
    {
     "data": {
      "text/html": [
       "<style>#sk-container-id-2 {color: black;background-color: white;}#sk-container-id-2 pre{padding: 0;}#sk-container-id-2 div.sk-toggleable {background-color: white;}#sk-container-id-2 label.sk-toggleable__label {cursor: pointer;display: block;width: 100%;margin-bottom: 0;padding: 0.3em;box-sizing: border-box;text-align: center;}#sk-container-id-2 label.sk-toggleable__label-arrow:before {content: \"▸\";float: left;margin-right: 0.25em;color: #696969;}#sk-container-id-2 label.sk-toggleable__label-arrow:hover:before {color: black;}#sk-container-id-2 div.sk-estimator:hover label.sk-toggleable__label-arrow:before {color: black;}#sk-container-id-2 div.sk-toggleable__content {max-height: 0;max-width: 0;overflow: hidden;text-align: left;background-color: #f0f8ff;}#sk-container-id-2 div.sk-toggleable__content pre {margin: 0.2em;color: black;border-radius: 0.25em;background-color: #f0f8ff;}#sk-container-id-2 input.sk-toggleable__control:checked~div.sk-toggleable__content {max-height: 200px;max-width: 100%;overflow: auto;}#sk-container-id-2 input.sk-toggleable__control:checked~label.sk-toggleable__label-arrow:before {content: \"▾\";}#sk-container-id-2 div.sk-estimator input.sk-toggleable__control:checked~label.sk-toggleable__label {background-color: #d4ebff;}#sk-container-id-2 div.sk-label input.sk-toggleable__control:checked~label.sk-toggleable__label {background-color: #d4ebff;}#sk-container-id-2 input.sk-hidden--visually {border: 0;clip: rect(1px 1px 1px 1px);clip: rect(1px, 1px, 1px, 1px);height: 1px;margin: -1px;overflow: hidden;padding: 0;position: absolute;width: 1px;}#sk-container-id-2 div.sk-estimator {font-family: monospace;background-color: #f0f8ff;border: 1px dotted black;border-radius: 0.25em;box-sizing: border-box;margin-bottom: 0.5em;}#sk-container-id-2 div.sk-estimator:hover {background-color: #d4ebff;}#sk-container-id-2 div.sk-parallel-item::after {content: \"\";width: 100%;border-bottom: 1px solid gray;flex-grow: 1;}#sk-container-id-2 div.sk-label:hover label.sk-toggleable__label {background-color: #d4ebff;}#sk-container-id-2 div.sk-serial::before {content: \"\";position: absolute;border-left: 1px solid gray;box-sizing: border-box;top: 0;bottom: 0;left: 50%;z-index: 0;}#sk-container-id-2 div.sk-serial {display: flex;flex-direction: column;align-items: center;background-color: white;padding-right: 0.2em;padding-left: 0.2em;position: relative;}#sk-container-id-2 div.sk-item {position: relative;z-index: 1;}#sk-container-id-2 div.sk-parallel {display: flex;align-items: stretch;justify-content: center;background-color: white;position: relative;}#sk-container-id-2 div.sk-item::before, #sk-container-id-2 div.sk-parallel-item::before {content: \"\";position: absolute;border-left: 1px solid gray;box-sizing: border-box;top: 0;bottom: 0;left: 50%;z-index: -1;}#sk-container-id-2 div.sk-parallel-item {display: flex;flex-direction: column;z-index: 1;position: relative;background-color: white;}#sk-container-id-2 div.sk-parallel-item:first-child::after {align-self: flex-end;width: 50%;}#sk-container-id-2 div.sk-parallel-item:last-child::after {align-self: flex-start;width: 50%;}#sk-container-id-2 div.sk-parallel-item:only-child::after {width: 0;}#sk-container-id-2 div.sk-dashed-wrapped {border: 1px dashed gray;margin: 0 0.4em 0.5em 0.4em;box-sizing: border-box;padding-bottom: 0.4em;background-color: white;}#sk-container-id-2 div.sk-label label {font-family: monospace;font-weight: bold;display: inline-block;line-height: 1.2em;}#sk-container-id-2 div.sk-label-container {text-align: center;}#sk-container-id-2 div.sk-container {/* jupyter's `normalize.less` sets `[hidden] { display: none; }` but bootstrap.min.css set `[hidden] { display: none !important; }` so we also need the `!important` here to be able to override the default hidden behavior on the sphinx rendered scikit-learn.org. See: https://github.com/scikit-learn/scikit-learn/issues/21755 */display: inline-block !important;position: relative;}#sk-container-id-2 div.sk-text-repr-fallback {display: none;}</style><div id=\"sk-container-id-2\" class=\"sk-top-container\"><div class=\"sk-text-repr-fallback\"><pre>DecisionTreeRegressor(min_samples_leaf=30)</pre><b>In a Jupyter environment, please rerun this cell to show the HTML representation or trust the notebook. <br />On GitHub, the HTML representation is unable to render, please try loading this page with nbviewer.org.</b></div><div class=\"sk-container\" hidden><div class=\"sk-item\"><div class=\"sk-estimator sk-toggleable\"><input class=\"sk-toggleable__control sk-hidden--visually\" id=\"sk-estimator-id-2\" type=\"checkbox\" checked><label for=\"sk-estimator-id-2\" class=\"sk-toggleable__label sk-toggleable__label-arrow\">DecisionTreeRegressor</label><div class=\"sk-toggleable__content\"><pre>DecisionTreeRegressor(min_samples_leaf=30)</pre></div></div></div></div></div>"
      ],
      "text/plain": [
       "DecisionTreeRegressor(min_samples_leaf=30)"
      ]
     },
     "execution_count": 17,
     "metadata": {},
     "output_type": "execute_result"
    }
   ],
   "source": [
    "# Training the Decision Tree regression on the training model\n",
    "from sklearn.tree import DecisionTreeRegressor\n",
    "regressor_Tree = DecisionTreeRegressor(min_samples_leaf=30)\n",
    "regressor_Tree.fit(x_train,y_train)"
   ]
  },
  {
   "cell_type": "code",
   "execution_count": 18,
   "metadata": {},
   "outputs": [],
   "source": [
    "# Predicting test results\n",
    "y_pred = regressor_Tree.predict(x_test)"
   ]
  },
  {
   "cell_type": "code",
   "execution_count": 19,
   "metadata": {},
   "outputs": [
    {
     "name": "stdout",
     "output_type": "stream",
     "text": [
      "0.7785734863116214\n"
     ]
    }
   ],
   "source": [
    "# Calculating r2 score\n",
    "r2_tree = r2_score(y_test,y_pred)\n",
    "print(r2_tree)"
   ]
  },
  {
   "cell_type": "code",
   "execution_count": 20,
   "metadata": {},
   "outputs": [
    {
     "data": {
      "image/png": "[encoded data removed]",
      "text/plain": [
       "<Figure size 640x480 with 1 Axes>"
      ]
     },
     "metadata": {},
     "output_type": "display_data"
    }
   ],
   "source": [
    "# Finding out the optimal number of trees for Random Forest Regression\n",
    "from sklearn.ensemble import RandomForestRegressor\n",
    "forestRange=range(50,500,50)\n",
    "scores_list=[]\n",
    "for i in forestRange: \n",
    "    regressor_Forest = RandomForestRegressor(n_estimators=i,random_state=0)\n",
    "    regressor_Forest.fit(x_train,y_train)\n",
    "    y_pred = regressor_Forest.predict(x_test)\n",
    "    scores_list.append(r2_score(y_test,y_pred))\n",
    "plt.plot(forestRange,scores_list,linewidth=2,color='maroon')\n",
    "plt.xticks(forestRange)\n",
    "plt.xlabel('No. of trees')\n",
    "plt.ylabel('r2 score of Random Forest Reg.')\n",
    "plt.show()    "
   ]
  },
  {
   "cell_type": "code",
   "execution_count": 21,
   "metadata": {},
   "outputs": [
    {
     "name": "stdout",
     "output_type": "stream",
     "text": [
      "0.9794970685198031\n"
     ]
    },
    {
     "ename": "AttributeError",
     "evalue": "'numpy.float64' object has no attribute 'summary'",
     "output_type": "error",
     "traceback": [
      "\u001b[1;31m---------------------------------------------------------------------------\u001b[0m",
      "\u001b[1;31mAttributeError\u001b[0m                            Traceback (most recent call last)",
      "Cell \u001b[1;32mIn[21], line 7\u001b[0m\n\u001b[0;32m      5\u001b[0m r2_forest \u001b[38;5;241m=\u001b[39m r2_score(y_test,y_pred)\n\u001b[0;32m      6\u001b[0m \u001b[38;5;28mprint\u001b[39m(r2_forest)\n\u001b[1;32m----> 7\u001b[0m \u001b[38;5;28mprint\u001b[39m(r2_forest\u001b[38;5;241m.\u001b[39msummary())\n",
      "\u001b[1;31mAttributeError\u001b[0m: 'numpy.float64' object has no attribute 'summary'"
     ]
    }
   ],
   "source": [
    "# Training the Random Forest regression on the training model\n",
    "regressor_Forest = RandomForestRegressor(n_estimators=100,random_state=0)\n",
    "regressor_Forest.fit(x_train,y_train)\n",
    "y_pred = regressor_Forest.predict(x_test)\n",
    "r2_forest = r2_score(y_test,y_pred)\n",
    "print(r2_forest)\n",
    "print(r2_forest.summary())"
   ]
  },
  {
   "cell_type": "code",
   "execution_count": null,
   "metadata": {},
   "outputs": [],
   "source": [
    "## Feature Scaling\n",
    "from sklearn.preprocessing import StandardScaler\n",
    "sc_x = StandardScaler()\n",
    "x_train = sc_x.fit_transform(x_train)\n",
    "x_test = sc_x.transform(x_test)\n",
    "sc_y = StandardScaler()\n",
    "y_train = sc_y.fit_transform(np.reshape(y_train,(len(y_train),1)))\n",
    "y_test = sc_y.transform(np.reshape(y_test,(len(y_test),1)))"
   ]
  },
  {
   "cell_type": "code",
   "execution_count": null,
   "metadata": {},
   "outputs": [],
   "source": [
    "print(x_train)\n",
    "print(x_test)\n",
    "print(y_test)\n",
    "print(y_train)"
   ]
  },
  {
   "cell_type": "code",
   "execution_count": null,
   "metadata": {},
   "outputs": [],
   "source": [
    "## Training the Linear SVR model on the training set\n",
    "from sklearn.svm import SVR\n",
    "regressor_SVR = SVR(kernel='linear')\n",
    "regressor_SVR.fit(x_train,y_train)"
   ]
  },
  {
   "cell_type": "code",
   "execution_count": null,
   "metadata": {},
   "outputs": [],
   "source": [
    "## Predicting test results\n",
    "y_pred = regressor_SVR.predict(x_test)"
   ]
  },
  {
   "cell_type": "code",
   "execution_count": null,
   "metadata": {},
   "outputs": [],
   "source": [
    "## Calculating r2 score\n",
    "r2_linearSVR = r2_score(y_test,y_pred)\n",
    "print(r2_linearSVR)"
   ]
  },
  {
   "cell_type": "code",
   "execution_count": null,
   "metadata": {},
   "outputs": [],
   "source": [
    "## Training the Non-linear SVR model on the training set\n",
    "from sklearn.svm import SVR\n",
    "regressor_NonLinearSVR = SVR(kernel='rbf')\n",
    "regressor_NonLinearSVR.fit(x_train,y_train)"
   ]
  },
  {
   "cell_type": "code",
   "execution_count": null,
   "metadata": {},
   "outputs": [],
   "source": [
    "## Predicting test results\n",
    "y_pred = regressor_NonLinearSVR.predict(x_test)"
   ]
  },
  {
   "cell_type": "code",
   "execution_count": null,
   "metadata": {},
   "outputs": [],
   "source": [
    "## Calculating r2 score\n",
    "r2_NonlinearSVR = r2_score(y_test,y_pred)\n",
    "print(r2_NonlinearSVR)"
   ]
  },
  {
   "cell_type": "code",
   "execution_count": null,
   "metadata": {},
   "outputs": [],
   "source": [
    "## Applying XGBoost Regression model on the training set\n",
    "!pip install xgboost\n",
    "from xgboost import XGBRegressor\n",
    "regressor_xgb = XGBRegressor()\n",
    "regressor_xgb.fit(x_train,y_train)"
   ]
  },
  {
   "cell_type": "code",
   "execution_count": null,
   "metadata": {},
   "outputs": [],
   "source": [
    "## Predicting test results\n",
    "y_pred = regressor_xgb.predict(x_test)"
   ]
  },
  {
   "cell_type": "code",
   "execution_count": null,
   "metadata": {},
   "outputs": [],
   "source": [
    "## Calculating r2 score\n",
    "r2_xgb = r2_score(y_test,y_pred)\n",
    "print(r2_xgb)"
   ]
  },
  {
   "cell_type": "code",
   "execution_count": null,
   "metadata": {},
   "outputs": [],
   "source": [
    "## Comparing the r2 scores of different models\n",
    "labelList = ['Multiple Linear Reg.','Polynomial Reg.','K-NearestNeighbors','Decision Tree','Random Forest',\n",
    "             'Linear SVR','Non-Linear SVR','XGBoost Reg.']\n",
    "mylist = [r2_MultiLinear,r2_poly,r2_knn,r2_tree,r2_forest,r2_linearSVR,r2_NonlinearSVR,r2_xgb]\n",
    "for i in range(0,len(mylist)):\n",
    "    mylist[i]=np.round(mylist[i]*100,decimals=3)\n",
    "print(mylist)"
   ]
  },
  {
   "cell_type": "code",
   "execution_count": null,
   "metadata": {},
   "outputs": [],
   "source": [
    "plt.figure(figsize=(14,8))\n",
    "ax = sns.barplot(x=labelList,y=mylist)\n",
    "plt.yticks(np.arange(0, 101, step=10))\n",
    "plt.title('r2 score comparison among different regression models',fontweight='bold')\n",
    "for p in ax.patches:\n",
    "    width, height = p.get_width(), p.get_height()\n",
    "    x, y = p.get_xy() \n",
    "    ax.annotate('{:.3f}%'.format(height), (x +0.25, y + height + 0.8))\n",
    "plt.show()"
   ]
  },
  {
   "cell_type": "code",
   "execution_count": null,
   "metadata": {},
   "outputs": [],
   "source": [
    "import numpy as np # linear algebra\n",
    "import pandas as pd # data processing, CSV file I/O (e.g. pd.read_csv)\n",
    "import matplotlib.pyplot as plt\n",
    "\n",
    "#importing the dataset\n",
    "Dataset = pd.read_csv('game_info_cleaned.csv')\n",
    "#Label Encoding\n",
    "from sklearn.preprocessing import LabelEncoder\n",
    "number = LabelEncoder()\n",
    "Dataset"
   ]
  },
  {
   "cell_type": "code",
   "execution_count": null,
   "metadata": {},
   "outputs": [],
   "source": [
    "\n",
    "Dataset['Console'] = number.fit_transform(Dataset['Console'].astype('str'))\n",
    "Dataset['Genre'] = number.fit_transform(Dataset['Genre'].astype('str'))\n",
    "Dataset['Publisher'] = number.fit_transform(Dataset['Publisher'].astype('str'))\n",
    "\n",
    "#extracting the feature vector and the dependant variable vector\n",
    "\n",
    "columns = [\"Console\", \"Genre\", \"Publisher\", \"NA Sales (m)\", \"EU Sales (m)\",\"JP Sales (m)\"]\n",
    "y = Dataset[\"Total Sales (m)\"].values\n",
    "X = Dataset[list(columns)].values\n",
    "\n",
    "#importing the linear model library\n",
    "from sklearn import linear_model\n",
    "\n",
    "regr = linear_model.LinearRegression()\n",
    "#importing the train test split library and splitting data into 80% for training 20% for testing\n",
    "from sklearn.model_selection import train_test_split\n",
    "X_train , X_test , y_train , y_test = train_test_split(X,y,test_size=0.2,random_state=0)\n",
    "#scaling the data \n",
    "from sklearn.preprocessing import StandardScaler\n",
    "scaler = StandardScaler()\n",
    "scaler.fit(X_train)\n",
    "X_train = scaler.transform(X_train)\n",
    "# apply same transformation to test data\n",
    "X_test = scaler.transform(X_test)\n",
    "#fit the train data to the linear model\n",
    "regr.fit(X_train, y_train)\n",
    "\n",
    "#Printing Accuracy in our Linear model\n",
    "Accuracy = regr.score(X_train, y_train)\n",
    "print (\"Accuracy in the training data with Linear Regression Model: \", Accuracy*100, \"%\")\n",
    "\n",
    "accuracy = regr.score(X_test, y_test)\n",
    "print (\"Accuracy in the test data with Linear Regression model\", accuracy*100, \"%\")\n",
    "#Comparing the model predicted results vs the Test set\n",
    "y_pred_Model1 = regr.predict(X_test)\n",
    "y_pred_Model1\n",
    "\n",
    "\n",
    "compare_Model1 = np.concatenate((y_pred_Model1.reshape(len(y_pred_Model1),1), y_test.reshape(len(y_test),1)),1)\n",
    "compare_Model1\n",
    "####*************************\n",
    "#Using DecisionTreeRegressor : \n",
    "from sklearn.tree import DecisionTreeRegressor\n",
    "DTR  = DecisionTreeRegressor()\n",
    "DTR2 =DecisionTreeRegressor(min_samples_leaf=40)\n",
    "DTR3 =DecisionTreeRegressor(min_samples_leaf=70)\n",
    "DTR4 =DecisionTreeRegressor(min_samples_leaf=80)\n",
    "DTR5 =DecisionTreeRegressor(min_samples_leaf=60)\n",
    "\n",
    "\n",
    "DTR.fit(X_train, y_train)\n",
    "DTR2.fit(X_train,y_train)\n",
    "DTR3.fit(X_train,y_train)\n",
    "DTR4.fit(X_train,y_train)\n",
    "DTR5.fit(X_train,y_train)\n",
    "\n",
    "#printing Accuracy in our DTR Model\n",
    "\n",
    "Accuracy = DTR.score(X_train, y_train)\n",
    "print (\"Accuracy in the training data with Decision Tree Regression model before tuning  : \", Accuracy*100, \"%\")\n",
    "\n",
    "accuracy = DTR.score(X_test, y_test)\n",
    "print (\"Accuracy in the test data with Decision Tree Regression model before tuining : \", accuracy*100, \"%\")\n",
    "##########################\n",
    "Accuracy2 = DTR2.score(X_train, y_train)\n",
    "print (\"\\nAccuracy in the training data with Decision Tree Regression model After tuning with min_samples_leaf=3 : \", Accuracy2*100, \"%\")\n",
    "\n",
    "accuracy2 = DTR2.score(X_test, y_test)\n",
    "print (\"Accuracy in the test data with Decision Tree Regression model After tuning with min_samples_leaf=3 : \", accuracy2*100, \"%\")\n",
    "##########################\n",
    "Accuracy3 = DTR3.score(X_train, y_train)\n",
    "print (\"\\nAccuracy in the training data with Decision Tree Regression model After tuning with min_samples_leaf=15 : \", Accuracy3*100, \"%\")\n",
    "\n",
    "accuracy3 = DTR3.score(X_test, y_test)\n",
    "print (\"Accuracy in the test data with Decision Tree Regression model After tuning with min_samples_leaf=15 : \", accuracy3*100, \"%\")\n",
    "##########################\n",
    "Accuracy4 = DTR4.score(X_train, y_train)\n",
    "print (\"\\nAccuracy in the training data with Decision Tree Regression model After tuning with min_samples_leaf=30 : \", Accuracy4*100, \"%\")\n",
    "\n",
    "accuracy4 = DTR4.score(X_test, y_test)\n",
    "print (\"Accuracy in the test data with Decision Tree Regression model After tuning with min_samples_leaf=30 : \", accuracy4*100, \"%\")\n",
    "##########################\n",
    "Accuracy5 = DTR5.score(X_train, y_train)\n",
    "print (\"\\nAccuracy in the training data with Decision Tree Regression model After tuning with min_samples_leaf=35 : \", Accuracy5*100, \"%\")\n",
    "\n",
    "accuracy5 = DTR5.score(X_test, y_test)\n",
    "print (\"Accuracy in the test data with Decision Tree Regression model After tuning with min_samples_leaf=35 : \", accuracy5*100, \"%\")\n",
    "##########################\n",
    "\n",
    "#Comparing the model predicted results vs the Test set\n",
    "y_pred_Model2 = DTR.predict(X_test)\n",
    "y_pred_Model2\n",
    "\n",
    "y_pred_Model2_Tuned = DTR5.predict(X_test)\n",
    "y_pred_Model2_Tuned\n",
    "\n",
    "compare_Model2 = np.concatenate((y_pred_Model2.reshape(len(y_pred_Model2),1), y_test.reshape(len(y_test),1)),1)\n",
    "compare_Model2\n",
    "\n",
    "compare_Model2_Tuned = np.concatenate((y_pred_Model2_Tuned.reshape(len(y_pred_Model2_Tuned),1), y_test.reshape(len(y_test),1)),1)\n",
    "compare_Model2_Tuned"
   ]
  },
  {
   "cell_type": "code",
   "execution_count": null,
   "metadata": {},
   "outputs": [],
   "source": [
    "df = pd.read_csv('game_info_cleaned.csv')"
   ]
  },
  {
   "cell_type": "code",
   "execution_count": null,
   "metadata": {},
   "outputs": [],
   "source": [
    "import numpy as np\n",
    "import pandas as pd\n",
    "import matplotlib.pyplot as plt\n",
    "import seaborn as sns\n",
    "raw_data2 = pd.read_csv('game_info.csv')\n",
    "raw_data2"
   ]
  },
  {
   "cell_type": "code",
   "execution_count": null,
   "metadata": {},
   "outputs": [],
   "source": [
    "df2 = raw_data2.copy()\n",
    "df2['Total Sales'] = df2['Total Sales'].fillna(0)\n",
    "df2 = df2.drop(['Units Sold'], axis = 1)\n",
    "df2 = df2[df2['Total Sales'] != 0]\n",
    "df2 = df2[df2['Total Sales'] != '0.00m']\n",
    "df2"
   ]
  },
  {
   "cell_type": "code",
   "execution_count": null,
   "metadata": {},
   "outputs": [],
   "source": [
    "# Đổi tên cột 'Publishers(s)' thành 'Publishers' trong DataFrame df2\n",
    "df2.rename(columns={'Publishers(s)': 'Publishers'}, inplace=True)\n",
    "\n",
    "# Áp dụng các biến đổi cho toàn bộ DataFrame mà không lọc bất kỳ cột nào\n",
    "filtered_df = df2.pipe(pd.melt, id_vars=['Console', 'Publishers', 'Genre', 'Release Date'], \n",
    "                       value_vars=['NA Sales','PAL Sales','JP Sales','Other Sales'], \n",
    "                       var_name='Region', value_name='Sales')\\\n",
    "                .assign(Region=lambda df2: df2.Region.str.strip('_Sales'))\n",
    "\n",
    "filtered_df"
   ]
  },
  {
   "cell_type": "code",
   "execution_count": null,
   "metadata": {},
   "outputs": [],
   "source": [
    "filtered_df['Sales'] = filtered_df['Sales'].fillna(0)\n",
    "filtered_df = filtered_df[filtered_df['Sales'] != 0]\n",
    "filtered_df = filtered_df[filtered_df['Sales'] != '0.00m']"
   ]
  },
  {
   "cell_type": "code",
   "execution_count": null,
   "metadata": {},
   "outputs": [],
   "source": [
    "filtered_df"
   ]
  },
  {
   "cell_type": "code",
   "execution_count": null,
   "metadata": {},
   "outputs": [],
   "source": [
    "import statsmodels.formula.api as smf\n",
    "import statsmodels.api as sm\n",
    "\n",
    "# Define the function to convert sales data\n",
    "def convert_to_float(s):\n",
    "    return float(s.replace('m', ''))\n",
    "\n",
    "# Assuming filtered_df is already defined\n",
    "filtered_df['Sales'] = filtered_df['Sales'].apply(convert_to_float)\n",
    "\n",
    "# First linear model\n",
    "model1 = smf.ols('Sales ~ Genre', data=filtered_df).fit()\n",
    "\n",
    "# Print the summary of the model\n",
    "print(model1.summary())"
   ]
  },
  {
   "cell_type": "code",
   "execution_count": null,
   "metadata": {},
   "outputs": [],
   "source": [
    "#second linear model\n",
    "model2 = smf.ols('Sales~Genre+Console',data=filtered_df).fit()\n",
    "model2.summary()"
   ]
  },
  {
   "cell_type": "code",
   "execution_count": null,
   "metadata": {},
   "outputs": [],
   "source": [
    "#third linear model\n",
    "model3 = smf.ols('Sales~Genre+Region+Console',data=filtered_df).fit()\n",
    "model3.summary()"
   ]
  },
  {
   "cell_type": "code",
   "execution_count": null,
   "metadata": {},
   "outputs": [],
   "source": [
    "#third linear model\n",
    "model4 = smf.ols('Sales~Genre+Region+Console+Publishers',data=filtered_df).fit()\n",
    "model4.summary()"
   ]
  },
  {
   "cell_type": "code",
   "execution_count": null,
   "metadata": {},
   "outputs": [],
   "source": [
    "# Anova test\n",
    "sm.stats.anova_lm(model1,model2,model3,model4)"
   ]
  },
  {
   "cell_type": "code",
   "execution_count": null,
   "metadata": {},
   "outputs": [],
   "source": [
    "g  = sns.FacetGrid(filtered_df, row='Region', col='Console', aspect=1.5)\n",
    "g.map_dataframe(sns.barplot, y='Genre', x='Sales')"
   ]
  },
  {
   "cell_type": "code",
   "execution_count": null,
   "metadata": {},
   "outputs": [],
   "source": [
    "# Giả sử new_data là DataFrame chứa dữ liệu mới với các cột: Genre, Region, Console, Publishers\n",
    "new_data = pd.DataFrame({\n",
    "    'Genre': ['Sports'],\n",
    "    'Region': ['NA '],\n",
    "    'Console': ['SNES'],\n",
    "    'Publishers': ['Electronic Arts']\n",
    "})\n",
    "\n",
    "# Thực hiện dự đoán\n",
    "predictions = model4.predict(new_data)"
   ]
  },
  {
   "cell_type": "code",
   "execution_count": null,
   "metadata": {},
   "outputs": [],
   "source": [
    "print(predictions)"
   ]
  },
  {
   "cell_type": "code",
   "execution_count": null,
   "metadata": {},
   "outputs": [],
   "source": []
  }
 ],
 "metadata": {
  "kernelspec": {
   "display_name": "Python 3 (ipykernel)",
   "language": "python",
   "name": "python3"
  },
  "language_info": {
   "codemirror_mode": {
    "name": "ipython",
    "version": 3
   },
   "file_extension": ".py",
   "mimetype": "text/x-python",
   "name": "python",
   "nbconvert_exporter": "python",
   "pygments_lexer": "ipython3",
   "version": "3.11.7"
  }
 },
 "nbformat": 4,
 "nbformat_minor": 4
}
